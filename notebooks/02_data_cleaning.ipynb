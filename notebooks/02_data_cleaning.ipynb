{
 "cells": [
  {
   "cell_type": "code",
   "id": "initial_id",
   "metadata": {
    "collapsed": true,
    "ExecuteTime": {
     "end_time": "2025-09-17T14:43:54.061297Z",
     "start_time": "2025-09-17T14:43:53.150419Z"
    }
   },
   "source": "import pandas as pd",
   "outputs": [
    {
     "name": "stderr",
     "output_type": "stream",
     "text": [
      "C:\\Users\\A200162055\\Miniconda3\\lib\\site-packages\\pandas\\core\\arrays\\masked.py:60: UserWarning: Pandas requires version '1.3.6' or newer of 'bottleneck' (version '1.3.5' currently installed).\n",
      "  from pandas.core import (\n"
     ]
    }
   ],
   "execution_count": 1
  },
  {
   "metadata": {
    "ExecuteTime": {
     "end_time": "2025-09-17T15:01:07.165187Z",
     "start_time": "2025-09-17T15:01:07.145183Z"
    }
   },
   "cell_type": "code",
   "source": [
    "df = pd.read_csv('../data/raw/spotify_2023.csv', encoding='latin-1')\n",
    "print(f'The dataframe consists of {len(df)} rows and {len(df.columns)} columns.')"
   ],
   "id": "133e7a0bc7ec2968",
   "outputs": [
    {
     "name": "stdout",
     "output_type": "stream",
     "text": [
      "The dataframe consists of 953 rows and 24 columns.\n"
     ]
    }
   ],
   "execution_count": 10
  },
  {
   "metadata": {},
   "cell_type": "markdown",
   "source": "# Data Cleaning",
   "id": "498bb579ccab3a9"
  },
  {
   "metadata": {},
   "cell_type": "markdown",
   "source": [
    "## Handling missing values and data types\n",
    "\n",
    "**Business decisions:**\n",
    "- Col streams: Replace invalid values with nan and convert to numeric\n",
    "- Col in_shazam_charts: Value formatting, replace invalid values with nan and convert to numeric\n",
    "- Col in_deezer_playlists: Value formatting, replace invalid values with nan and convert to numeric"
   ],
   "id": "6a85fac39894e782"
  },
  {
   "metadata": {
    "ExecuteTime": {
     "end_time": "2025-09-17T14:43:54.761817Z",
     "start_time": "2025-09-17T14:43:54.747948Z"
    }
   },
   "cell_type": "code",
   "source": [
    "col = 'streams'\n",
    "df[col] = pd.to_numeric(df[col], errors='coerce')\n",
    "df[col] = df[col].astype('Int64')\n",
    "\n",
    "num_invalid = df[col].isna().sum()\n",
    "if num_invalid > 0:\n",
    "    print(f'Warning: {num_invalid} invalid entries found in column {col} and set to NaN.')"
   ],
   "id": "a87bbc6bf01868e2",
   "outputs": [
    {
     "name": "stdout",
     "output_type": "stream",
     "text": [
      "Warning: 1 invalid entries found in column streams and set to NaN.\n"
     ]
    }
   ],
   "execution_count": 3
  },
  {
   "metadata": {
    "ExecuteTime": {
     "end_time": "2025-09-17T14:43:54.808336Z",
     "start_time": "2025-09-17T14:43:54.795463Z"
    }
   },
   "cell_type": "code",
   "source": [
    "col = 'in_shazam_charts'\n",
    "df[col] = df[col].str.replace(',', '', regex=False)\n",
    "df[col] = pd.to_numeric(df[col], errors='coerce')\n",
    "df[col] = df[col].astype('Int64')\n",
    "\n",
    "num_invalid = df[col].isna().sum()\n",
    "if num_invalid > 0:\n",
    "    print(f'Warning: {num_invalid} invalid entries found in column {col} and set to NaN.')"
   ],
   "id": "119bd43d86d869bd",
   "outputs": [
    {
     "name": "stdout",
     "output_type": "stream",
     "text": [
      "Warning: 50 invalid entries found in column in_shazam_charts and set to NaN.\n"
     ]
    }
   ],
   "execution_count": 4
  },
  {
   "metadata": {
    "ExecuteTime": {
     "end_time": "2025-09-17T14:43:54.871562Z",
     "start_time": "2025-09-17T14:43:54.857433Z"
    }
   },
   "cell_type": "code",
   "source": [
    "col = 'in_deezer_playlists'\n",
    "df[col] = df[col].str.replace(',', '', regex=False)\n",
    "df[col] = pd.to_numeric(df[col], errors='coerce')\n",
    "df[col] = df[col].astype('Int64')"
   ],
   "id": "d995edf2dae1915",
   "outputs": [],
   "execution_count": 5
  },
  {
   "metadata": {},
   "cell_type": "markdown",
   "source": "## Handling duplicates",
   "id": "5d29377257fdf6db"
  },
  {
   "metadata": {
    "ExecuteTime": {
     "end_time": "2025-09-17T14:43:54.919072Z",
     "start_time": "2025-09-17T14:43:54.906087Z"
    }
   },
   "cell_type": "code",
   "source": [
    "group_cols = ['track_name', 'artist(s)_name']\n",
    "\n",
    "sum_cols = ['in_spotify_playlists', 'streams', 'in_apple_playlists', 'in_deezer_playlists', ]\n",
    "avg_cols = ['artist_count', 'released_year', 'released_month', 'released_day', 'in_spotify_charts', 'in_apple_charts', 'in_deezer_charts', 'in_shazam_charts', 'bpm', 'danceability_%', 'valence_%', 'energy_%', 'acousticness_%', 'instrumentalness_%', 'speechiness_%', 'liveness_%']\n",
    "first_cols = ['key', 'mode']"
   ],
   "id": "bc4c64eb5647c12a",
   "outputs": [],
   "execution_count": 6
  },
  {
   "metadata": {
    "ExecuteTime": {
     "end_time": "2025-09-17T14:43:54.982701Z",
     "start_time": "2025-09-17T14:43:54.954066Z"
    }
   },
   "cell_type": "code",
   "source": [
    "agg_dict = {col: 'sum' for col in sum_cols}\n",
    "agg_dict.update({col: 'mean' for col in avg_cols})\n",
    "agg_dict.update({col: 'first' for col in first_cols})\n",
    "\n",
    "df_aggregated = df.groupby(group_cols).agg(agg_dict).reset_index()\n",
    "\n",
    "for col in avg_cols:\n",
    "    df_aggregated[col] = df_aggregated[col].round().astype('Int64')\n"
   ],
   "id": "b09d49ca51a2fef7",
   "outputs": [],
   "execution_count": 7
  },
  {
   "metadata": {
    "ExecuteTime": {
     "end_time": "2025-09-17T14:43:55.029630Z",
     "start_time": "2025-09-17T14:43:55.016700Z"
    }
   },
   "cell_type": "code",
   "source": "print(f'The dataframe consists of {len(df_aggregated)} rows and {len(df_aggregated.columns)} columns.')",
   "id": "a2ac44b9707cafcb",
   "outputs": [
    {
     "name": "stdout",
     "output_type": "stream",
     "text": [
      "The dataframe consists of 949 rows and 24 columns.\n"
     ]
    }
   ],
   "execution_count": 8
  },
  {
   "metadata": {},
   "cell_type": "markdown",
   "source": "# Write cleaned data to processed folder",
   "id": "37ad2dcbf5bb8c4"
  },
  {
   "metadata": {
    "ExecuteTime": {
     "end_time": "2025-09-17T15:02:08.028768Z",
     "start_time": "2025-09-17T15:02:08.012768Z"
    }
   },
   "cell_type": "code",
   "source": "df_aggregated.to_csv('../data/processed/spotify_2023_cleaned.csv', index=False)",
   "id": "7dc676b703437ced",
   "outputs": [],
   "execution_count": 14
  }
 ],
 "metadata": {
  "kernelspec": {
   "display_name": "Python 3",
   "language": "python",
   "name": "python3"
  },
  "language_info": {
   "codemirror_mode": {
    "name": "ipython",
    "version": 2
   },
   "file_extension": ".py",
   "mimetype": "text/x-python",
   "name": "python",
   "nbconvert_exporter": "python",
   "pygments_lexer": "ipython2",
   "version": "2.7.6"
  }
 },
 "nbformat": 4,
 "nbformat_minor": 5
}
